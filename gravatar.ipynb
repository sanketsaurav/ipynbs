{
 "metadata": {
  "name": "gravatar"
 }, 
 "nbformat": 2, 
 "worksheets": [
  {
   "cells": [
    {
     "cell_type": "code", 
     "collapsed": false, 
     "input": [
      "import urllib, hashlib", 
      "", 
      "email = \"sanketsaurav@gmail.com\"", 
      "size = 300", 
      "", 
      "gravatar_url = gravatar_url = \"http://www.gravatar.com/avatar/\" + hashlib.md5(email.lower()).hexdigest() + \"?\"", 
      "gravatar_url += urllib.urlencode({'s':str(size)})", 
      "", 
      "print gravatar_url"
     ], 
     "language": "python", 
     "outputs": [
      {
       "output_type": "stream", 
       "stream": "stdout", 
       "text": [
        "http://www.gravatar.com/avatar/1f781397c091ee13c7838af775eb069a?s=100"
       ]
      }
     ], 
     "prompt_number": 5
    }, 
    {
     "cell_type": "code", 
     "collapsed": true, 
     "input": [], 
     "language": "python", 
     "outputs": []
    }
   ]
  }
 ]
}